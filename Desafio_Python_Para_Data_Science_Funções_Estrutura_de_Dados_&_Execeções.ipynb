{
  "nbformat": 4,
  "nbformat_minor": 0,
  "metadata": {
    "colab": {
      "provenance": [],
      "authorship_tag": "ABX9TyP7jA1sxQV+5ynMeMEmloxD",
      "include_colab_link": true
    },
    "kernelspec": {
      "name": "python3",
      "display_name": "Python 3"
    },
    "language_info": {
      "name": "python"
    }
  },
  "cells": [
    {
      "cell_type": "markdown",
      "metadata": {
        "id": "view-in-github",
        "colab_type": "text"
      },
      "source": [
        "<a href=\"https://colab.research.google.com/github/sdoliveiraneto/estudopython/blob/main/Desafio_Python_Para_Data_Science_Fun%C3%A7%C3%B5es_Estrutura_de_Dados_%26_Exece%C3%A7%C3%B5es.ipynb\" target=\"_parent\"><img src=\"https://colab.research.google.com/assets/colab-badge.svg\" alt=\"Open In Colab\"/></a>"
      ]
    },
    {
      "cell_type": "code",
      "execution_count": null,
      "metadata": {
        "id": "tGiKjILz1f6y"
      },
      "outputs": [],
      "source": [
        "# 1.\n",
        "# Escreva um código para instalar a versão 3.7.1 da biblioteca matplotlib.\n",
        "\n",
        "!pip install matplotlib==3.7.1"
      ]
    },
    {
      "cell_type": "code",
      "source": [
        "# 2.\n",
        "# Escreva um código para importar a biblioteca numpy com o alias np.\n",
        "\n",
        "import numpy as np"
      ],
      "metadata": {
        "id": "APj-0xqf1-5i"
      },
      "execution_count": null,
      "outputs": []
    },
    {
      "cell_type": "code",
      "source": [
        "# 3.\n",
        "# Crie um programa que leia a seguinte lista de números e escolha um número desta aleatoriamente.\n",
        "\n",
        "from random import choice\n",
        "\n",
        "lista = [8, 12, 54, 23, 43, 1, 90, 87, 105, 77]\n",
        "\n",
        "lista_2 = choice(lista)\n",
        "\n",
        "lista_2"
      ],
      "metadata": {
        "id": "naJjITDG2LMT"
      },
      "execution_count": null,
      "outputs": []
    },
    {
      "cell_type": "code",
      "source": [
        "# 4.\n",
        "# Crie um programa que sorteia, aleatoriamente, um número inteiro positivo menor que 100.\n",
        "\n",
        "from random import randint\n",
        "\n",
        "numero = randint(0, 100)\n",
        "\n",
        "numero"
      ],
      "metadata": {
        "id": "-WV1WOVn22h8"
      },
      "execution_count": null,
      "outputs": []
    },
    {
      "cell_type": "code",
      "source": [
        "# 5.\n",
        "# Crie um programa que solicite à pessoa usuária digitar dois números inteiros e calcular a potência do 1º número elevado ao 2º.\n",
        "\n",
        "from math import pow\n",
        "\n",
        "numero_1 = int(input('Digite um número inteiro: '))\n",
        "numero_2 = int(input('Digite outro número inteiro: '))\n",
        "\n",
        "potencia = pow(numero_1, numero_2)\n",
        "\n",
        "print(f'O numero potência é: {potencia}')\n"
      ],
      "metadata": {
        "id": "DTOvwXas3D5C"
      },
      "execution_count": null,
      "outputs": []
    },
    {
      "cell_type": "code",
      "source": [
        "# 6.\n",
        "# Um programa deve ser escrito para sortear uma pessoa seguidora de uma rede social para ganhar um prêmio. A lista de participantes é numerada e devemos escolher aleatoriamente um número de acordo com a quantidade de participantes. Peça à pessoa usuária para fornecer o número de participantes do sorteio e devolva para ela o número sorteado.\n",
        "\n",
        "from random import randint\n",
        "\n",
        "numero = int(input('Digite a quantidade de participantes: '))\n",
        "sorteio = randint(0, numero)\n",
        "\n",
        "print(f' O número sorteado é: {sorteio}')"
      ],
      "metadata": {
        "id": "Z_c5wQlb32bI"
      },
      "execution_count": null,
      "outputs": []
    },
    {
      "cell_type": "code",
      "source": [
        "# 7.\n",
        "# Você recebeu uma demanda para gerar números de token para acessar o aplicativo de uma empresa. O token precisa ser par e variar de 1000 até 9998. Escreva um código que solicita à pessoa usuária o seu nome e exibe uma mensagem junto a esse token gerado aleatoriamente.\n",
        "\n",
        "from random import randrange\n",
        "\n",
        "nome = str(input('Digite seu nome: '))\n",
        "\n",
        "token = randrange(1000, 9998, 2)\n",
        "\n",
        "print(f'Olá, {nome}, o seu token de acesso é {token}! Seja bem-vindo(a)!')"
      ],
      "metadata": {
        "id": "CKYCEwEv4Z_p"
      },
      "execution_count": null,
      "outputs": []
    },
    {
      "cell_type": "code",
      "source": [
        "# 8.\n",
        "# Para diversificar e atrair novos(as) clientes, uma lanchonete criou um item misterioso em seu cardápio chamado \"salada de frutas surpresa\". Neste item, são escolhidas aleatoriamente 3 frutas de uma lista de 12 para compor a salada de frutas da pessoa cliente. Crie o código que faça essa seleção aleatória de acordo com a lista abaixo:\n",
        "\n",
        "from random import choices\n",
        "\n",
        "frutas = [\"maçã\", \"banana\", \"uva\", \"pêra\", \"manga\", \"coco\", \"melancia\", \"mamão\",\"laranja\", \"abacaxi\", \"kiwi\", \"ameixa\"]\n",
        "\n",
        "sorteio = choices(frutas, k=3)\n",
        "\n",
        "print(f'A salada de frutas surpresa é: {sorteio[0]}, {sorteio[1]}, {sorteio[2]}')\n"
      ],
      "metadata": {
        "id": "hm19xN7o5QhK"
      },
      "execution_count": null,
      "outputs": []
    },
    {
      "cell_type": "code",
      "source": [
        "# 9.\n",
        "# Você recebeu um desafio de calcular a raiz quadrada de uma lista de números, identificando quais resultaram em um número inteiro. A lista é a seguinte:\n",
        "\n",
        "import numpy as np\n",
        "\n",
        "numeros = [2, 8, 15, 23, 91, 112, 256]\n",
        "\n",
        "raiz = []\n",
        "\n",
        "for numero in numeros:\n",
        "  raiz.append(np.sqrt(numero))\n",
        "\n",
        "for i in range(len(raiz)):\n",
        "  if raiz[i] // 1 == raiz[i]:\n",
        "    print(f'{raiz[i]} é inteiro')\n",
        "  else:\n",
        "    print(f'{raiz[i]} não é inteiro')"
      ],
      "metadata": {
        "id": "Zkq1GyVx6tZ2"
      },
      "execution_count": null,
      "outputs": []
    },
    {
      "cell_type": "code",
      "source": [
        "# 10.\n",
        "# Faça um programa para uma loja que vende grama para jardins. Essa loja trabalha com jardins circulares e o preço do metro quadrado da grama é de R$ 25,00. Peça à pessoa usuária o raio da área circular e devolva o valor em reais do quanto precisará pagar.\n",
        "\n",
        "from math import pi, pow\n",
        "\n",
        "raio = float(input('Digite o raio da área circular: '))\n",
        "\n",
        "area = pi * pow(raio, 2)\n",
        "preco = area * 25\n",
        "\n"
      ],
      "metadata": {
        "id": "3l9AwgWD8iPy"
      },
      "execution_count": null,
      "outputs": []
    }
  ]
}